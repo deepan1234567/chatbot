{
  "nbformat": 4,
  "nbformat_minor": 0,
  "metadata": {
    "colab": {
      "provenance": []
    },
    "kernelspec": {
      "name": "python3",
      "display_name": "Python 3"
    },
    "language_info": {
      "name": "python"
    }
  },
  "cells": [
    {
      "cell_type": "code",
      "execution_count": null,
      "metadata": {
        "id": "vAQqG1bkt5mD"
      },
      "outputs": [],
      "source": [
        "import pickle\n",
        "import numpy as np\n"
      ]
    },
    {
      "cell_type": "code",
      "source": [
        "with open(\"train_qa.txt\", \"rb\") as f:\n",
        "    train_data = pickle.load(f)\n"
      ],
      "metadata": {
        "id": "ATsjV8Dft-Ct"
      },
      "execution_count": null,
      "outputs": []
    },
    {
      "cell_type": "code",
      "source": [
        "with open(\"test_qa.txt\", \"rb\") as f:\n",
        "    test_data = pickle.load(f)"
      ],
      "metadata": {
        "id": "WXnbj3gquLlc"
      },
      "execution_count": null,
      "outputs": []
    },
    {
      "cell_type": "code",
      "source": [
        "type(train_data)"
      ],
      "metadata": {
        "colab": {
          "base_uri": "https://localhost:8080/"
        },
        "id": "bVEhQ4ApufeM",
        "outputId": "22002bea-74ff-490d-aa00-f27f24432231"
      },
      "execution_count": null,
      "outputs": [
        {
          "output_type": "execute_result",
          "data": {
            "text/plain": [
              "list"
            ]
          },
          "metadata": {},
          "execution_count": 7
        }
      ]
    },
    {
      "cell_type": "code",
      "source": [
        "len(train_data)"
      ],
      "metadata": {
        "colab": {
          "base_uri": "https://localhost:8080/"
        },
        "id": "yG0ApjFYuizS",
        "outputId": "958c48e9-aab2-4df6-e1f2-5032b3eab0ef"
      },
      "execution_count": null,
      "outputs": [
        {
          "output_type": "execute_result",
          "data": {
            "text/plain": [
              "10000"
            ]
          },
          "metadata": {},
          "execution_count": 8
        }
      ]
    },
    {
      "cell_type": "code",
      "source": [
        "len(test_data)"
      ],
      "metadata": {
        "colab": {
          "base_uri": "https://localhost:8080/"
        },
        "id": "PswXHCbzukc5",
        "outputId": "3cae3b47-f2a7-42a8-d235-6e24970a0c3d"
      },
      "execution_count": null,
      "outputs": [
        {
          "output_type": "execute_result",
          "data": {
            "text/plain": [
              "1000"
            ]
          },
          "metadata": {},
          "execution_count": 9
        }
      ]
    },
    {
      "cell_type": "code",
      "source": [
        "train_data[0]"
      ],
      "metadata": {
        "colab": {
          "base_uri": "https://localhost:8080/"
        },
        "id": "H6QSHmsnumC0",
        "outputId": "5ebedd4d-6fdf-41f2-9216-0a65c25c745d"
      },
      "execution_count": null,
      "outputs": [
        {
          "output_type": "execute_result",
          "data": {
            "text/plain": [
              "(['Mary',\n",
              "  'moved',\n",
              "  'to',\n",
              "  'the',\n",
              "  'bathroom',\n",
              "  '.',\n",
              "  'Sandra',\n",
              "  'journeyed',\n",
              "  'to',\n",
              "  'the',\n",
              "  'bedroom',\n",
              "  '.'],\n",
              " ['Is', 'Sandra', 'in', 'the', 'hallway', '?'],\n",
              " 'no')"
            ]
          },
          "metadata": {},
          "execution_count": 10
        }
      ]
    },
    {
      "cell_type": "code",
      "source": [
        "all_data = test_data + train_data"
      ],
      "metadata": {
        "id": "BXaciN31unlv"
      },
      "execution_count": null,
      "outputs": []
    },
    {
      "cell_type": "code",
      "source": [
        "len(all_data)"
      ],
      "metadata": {
        "colab": {
          "base_uri": "https://localhost:8080/"
        },
        "id": "ke4X1A9-upnb",
        "outputId": "b9a27f38-bd3a-46b1-efbf-60d577103b5b"
      },
      "execution_count": null,
      "outputs": [
        {
          "output_type": "execute_result",
          "data": {
            "text/plain": [
              "11000"
            ]
          },
          "metadata": {},
          "execution_count": 12
        }
      ]
    },
    {
      "cell_type": "code",
      "source": [
        "vocab = set()\n",
        "for story, question, answer in all_data:\n",
        "    vocab = vocab.union(set(story))\n",
        "    vocab = vocab.union(set(question))\n"
      ],
      "metadata": {
        "id": "MK-vKn6nurvC"
      },
      "execution_count": null,
      "outputs": []
    },
    {
      "cell_type": "code",
      "source": [
        "vocab.add(\"no\")\n",
        "vocab.add(\"yes\")"
      ],
      "metadata": {
        "id": "5nSkagnNuv3r"
      },
      "execution_count": null,
      "outputs": []
    },
    {
      "cell_type": "code",
      "source": [
        "vocab\n"
      ],
      "metadata": {
        "colab": {
          "base_uri": "https://localhost:8080/"
        },
        "id": "BUYyEsAbuweT",
        "outputId": "5397978b-ad90-4244-8721-bab811728da9"
      },
      "execution_count": null,
      "outputs": [
        {
          "output_type": "execute_result",
          "data": {
            "text/plain": [
              "{'.',\n",
              " '?',\n",
              " 'Daniel',\n",
              " 'Is',\n",
              " 'John',\n",
              " 'Mary',\n",
              " 'Sandra',\n",
              " 'apple',\n",
              " 'back',\n",
              " 'bathroom',\n",
              " 'bedroom',\n",
              " 'discarded',\n",
              " 'down',\n",
              " 'dropped',\n",
              " 'football',\n",
              " 'garden',\n",
              " 'got',\n",
              " 'grabbed',\n",
              " 'hallway',\n",
              " 'in',\n",
              " 'journeyed',\n",
              " 'kitchen',\n",
              " 'left',\n",
              " 'milk',\n",
              " 'moved',\n",
              " 'no',\n",
              " 'office',\n",
              " 'picked',\n",
              " 'put',\n",
              " 'the',\n",
              " 'there',\n",
              " 'to',\n",
              " 'took',\n",
              " 'travelled',\n",
              " 'up',\n",
              " 'went',\n",
              " 'yes'}"
            ]
          },
          "metadata": {},
          "execution_count": 15
        }
      ]
    },
    {
      "cell_type": "code",
      "source": [
        "vocab_len = len(vocab) + 1\n",
        "vocab_len"
      ],
      "metadata": {
        "colab": {
          "base_uri": "https://localhost:8080/"
        },
        "id": "Ics2QSc9uyPa",
        "outputId": "807f17f8-2527-4399-f9e5-898aadf2fc61"
      },
      "execution_count": null,
      "outputs": [
        {
          "output_type": "execute_result",
          "data": {
            "text/plain": [
              "38"
            ]
          },
          "metadata": {},
          "execution_count": 16
        }
      ]
    },
    {
      "cell_type": "code",
      "source": [
        "all_story_len = [len(data[0]) for data in all_data]\n",
        "max_story_len = max(all_story_len)\n",
        "max_question_len = max([len(data[1]) for data in all_data])\n",
        "max_question_len"
      ],
      "metadata": {
        "colab": {
          "base_uri": "https://localhost:8080/"
        },
        "id": "FmlKrJlCu1DQ",
        "outputId": "2dc2cd69-a331-4257-8473-6b0be0f29f83"
      },
      "execution_count": null,
      "outputs": [
        {
          "output_type": "execute_result",
          "data": {
            "text/plain": [
              "6"
            ]
          },
          "metadata": {},
          "execution_count": 17
        }
      ]
    },
    {
      "cell_type": "code",
      "source": [
        "from keras_preprocessing.sequence import pad_sequences\n",
        "from keras.preprocessing.text import Tokenizer"
      ],
      "metadata": {
        "id": "ywDk21tTu4o3"
      },
      "execution_count": null,
      "outputs": []
    },
    {
      "cell_type": "code",
      "source": [
        "tokenizer = Tokenizer(filters = [])"
      ],
      "metadata": {
        "id": "OmRbuzjtu6_Q"
      },
      "execution_count": null,
      "outputs": []
    },
    {
      "cell_type": "code",
      "source": [
        "tokenizer.fit_on_texts(vocab)\n",
        "tokenizer.word_index"
      ],
      "metadata": {
        "colab": {
          "base_uri": "https://localhost:8080/"
        },
        "id": "pYTzn4CzwXcE",
        "outputId": "3d97da95-3ff7-4d3e-e108-142be1066b2a"
      },
      "execution_count": null,
      "outputs": [
        {
          "output_type": "execute_result",
          "data": {
            "text/plain": [
              "{'john': 1,\n",
              " 'mary': 2,\n",
              " 'discarded': 3,\n",
              " '?': 4,\n",
              " 'sandra': 5,\n",
              " 'left': 6,\n",
              " 'bedroom': 7,\n",
              " 'there': 8,\n",
              " 'grabbed': 9,\n",
              " 'moved': 10,\n",
              " 'to': 11,\n",
              " 'put': 12,\n",
              " 'went': 13,\n",
              " 'daniel': 14,\n",
              " 'office': 15,\n",
              " 'picked': 16,\n",
              " 'got': 17,\n",
              " 'travelled': 18,\n",
              " 'kitchen': 19,\n",
              " 'back': 20,\n",
              " 'the': 21,\n",
              " 'milk': 22,\n",
              " 'apple': 23,\n",
              " 'up': 24,\n",
              " 'hallway': 25,\n",
              " 'garden': 26,\n",
              " 'yes': 27,\n",
              " 'down': 28,\n",
              " 'football': 29,\n",
              " 'no': 30,\n",
              " 'is': 31,\n",
              " 'dropped': 32,\n",
              " 'took': 33,\n",
              " 'bathroom': 34,\n",
              " 'in': 35,\n",
              " '.': 36,\n",
              " 'journeyed': 37}"
            ]
          },
          "metadata": {},
          "execution_count": 23
        }
      ]
    },
    {
      "cell_type": "code",
      "source": [
        "train_story_text = []\n",
        "train_question_text = []\n",
        "train_answers = []"
      ],
      "metadata": {
        "id": "3hdCkRf2wZVU"
      },
      "execution_count": null,
      "outputs": []
    },
    {
      "cell_type": "code",
      "source": [
        "for story, question, answer in train_data:\n",
        "    train_story_text.append(story)\n",
        "    train_question_text.append(question)\n",
        "    train_answers.append(answer)"
      ],
      "metadata": {
        "id": "QNd36NnewcJS"
      },
      "execution_count": null,
      "outputs": []
    },
    {
      "cell_type": "code",
      "source": [
        "train_story_sequence = tokenizer.texts_to_sequences(train_story_text)\n",
        "# train_question_sequence = tokenizer.texts_to_sequences(train_question_text)"
      ],
      "metadata": {
        "id": "4vtjPumZweDo"
      },
      "execution_count": null,
      "outputs": []
    },
    {
      "cell_type": "code",
      "source": [
        "def vectorize_stories(data, word_index = tokenizer.word_index, max_story_len = max_story_len, max_question_len = max_question_len):\n",
        "    x = []\n",
        "    xq = []\n",
        "    y = []\n",
        "    for story, question, answer in data:\n",
        "        x_temp = [word_index[word.lower()] for word in story]\n",
        "        xq_temp = [word_index[word.lower()] for word in question]        \n",
        "        y_temp = np.zeros(len(word_index)+1)\n",
        "        y_temp[word_index[answer]] = 1\n",
        "        x.append(x_temp)\n",
        "        xq.append(xq_temp)        \n",
        "        y.append(y_temp)\n",
        "    return (pad_sequences(x,maxlen = max_story_len),pad_sequences(xq,maxlen = max_question_len), np.array(y))\n"
      ],
      "metadata": {
        "id": "x0eq-Anwwfu9"
      },
      "execution_count": null,
      "outputs": []
    },
    {
      "cell_type": "code",
      "source": [
        "inputs_train, queries_train, answers_train = vectorize_stories(train_data)"
      ],
      "metadata": {
        "id": "e4ZIW-ywwuHv"
      },
      "execution_count": null,
      "outputs": []
    },
    {
      "cell_type": "code",
      "source": [
        "inputs_test, queries_test, answers_test = vectorize_stories(test_data)"
      ],
      "metadata": {
        "id": "fuoZ1uJEwwkj"
      },
      "execution_count": null,
      "outputs": []
    },
    {
      "cell_type": "code",
      "source": [
        "from keras.models import Sequential, Model"
      ],
      "metadata": {
        "id": "0sXQgr3DwyNO"
      },
      "execution_count": null,
      "outputs": []
    },
    {
      "cell_type": "code",
      "source": [
        "from keras.layers import Embedding "
      ],
      "metadata": {
        "id": "A8DyD5K2wzm0"
      },
      "execution_count": null,
      "outputs": []
    },
    {
      "cell_type": "code",
      "source": [
        "from keras.layers import Input, Activation, Dense, Permute, Dropout, add, dot, concatenate, LSTM"
      ],
      "metadata": {
        "id": "KGlMDZtkw1SA"
      },
      "execution_count": null,
      "outputs": []
    },
    {
      "cell_type": "code",
      "source": [
        "input_sequence = Input((max_story_len,))\n",
        "question = Input((max_question_len,))"
      ],
      "metadata": {
        "id": "TUt76II2xagP"
      },
      "execution_count": null,
      "outputs": []
    },
    {
      "cell_type": "code",
      "source": [
        "vocab_size = len(vocab)+1"
      ],
      "metadata": {
        "id": "rc0-6tamxdHq"
      },
      "execution_count": null,
      "outputs": []
    },
    {
      "cell_type": "code",
      "source": [
        "input_encoder_m = Sequential()\n",
        "input_encoder_m.add(Embedding(input_dim=vocab_size, output_dim=64))\n",
        "input_encoder_m.add(Dropout(0.3))"
      ],
      "metadata": {
        "id": "wOygeWzgxfk1"
      },
      "execution_count": null,
      "outputs": []
    },
    {
      "cell_type": "code",
      "source": [
        "input_encoder_c = Sequential()\n",
        "input_encoder_c.add(Embedding(input_dim=vocab_size, output_dim=max_question_len))\n",
        "input_encoder_c.add(Dropout(0.3))"
      ],
      "metadata": {
        "id": "uFbJNbHDxw_5"
      },
      "execution_count": null,
      "outputs": []
    },
    {
      "cell_type": "code",
      "source": [
        "question_encoder = Sequential()\n",
        "question_encoder.add(Embedding(input_dim=vocab_size, output_dim=64, input_length=max_question_len))\n",
        "question_encoder.add(Dropout(0.3))"
      ],
      "metadata": {
        "id": "QfAUINLVxypC"
      },
      "execution_count": null,
      "outputs": []
    },
    {
      "cell_type": "code",
      "source": [
        "input_encoded_m = input_encoder_m(input_sequence)\n",
        "input_encoded_c = input_encoder_c(input_sequence)\n",
        "question_encoded = question_encoder(question)\n"
      ],
      "metadata": {
        "id": "i6eMOWKMx0di"
      },
      "execution_count": null,
      "outputs": []
    },
    {
      "cell_type": "code",
      "source": [
        "match = dot([input_encoded_m, question_encoded], axes = (2,2))"
      ],
      "metadata": {
        "id": "ADTAfPfcx4bN"
      },
      "execution_count": null,
      "outputs": []
    },
    {
      "cell_type": "code",
      "source": [
        "match = Activation(\"softmax\")(match)"
      ],
      "metadata": {
        "id": "HNGjGY6qx6Du"
      },
      "execution_count": null,
      "outputs": []
    },
    {
      "cell_type": "code",
      "source": [
        "response = add([match, input_encoded_c])\n",
        "response = Permute((2,1))(response)"
      ],
      "metadata": {
        "id": "VTZjXJ3Nx7tK"
      },
      "execution_count": null,
      "outputs": []
    },
    {
      "cell_type": "code",
      "source": [
        "answer = concatenate([response, question_encoded])"
      ],
      "metadata": {
        "id": "V1byexF9x9vD"
      },
      "execution_count": null,
      "outputs": []
    },
    {
      "cell_type": "code",
      "source": [
        "answer"
      ],
      "metadata": {
        "colab": {
          "base_uri": "https://localhost:8080/"
        },
        "id": "-4g6XbrUx_N_",
        "outputId": "5ff334ff-b477-4c3a-88b4-fc5dcdcffc9a"
      },
      "execution_count": null,
      "outputs": [
        {
          "output_type": "execute_result",
          "data": {
            "text/plain": [
              "<KerasTensor: shape=(None, 6, 220) dtype=float32 (created by layer 'concatenate')>"
            ]
          },
          "metadata": {},
          "execution_count": 46
        }
      ]
    },
    {
      "cell_type": "code",
      "source": [
        "answer = LSTM(32)(answer)"
      ],
      "metadata": {
        "id": "nvzrOnX8yA28"
      },
      "execution_count": null,
      "outputs": []
    },
    {
      "cell_type": "code",
      "source": [
        "answer = Dropout(0.5)(answer)"
      ],
      "metadata": {
        "id": "OAVR1oTjyLWr"
      },
      "execution_count": null,
      "outputs": []
    },
    {
      "cell_type": "code",
      "source": [
        "answer = Dense(vocab_size)(answer)"
      ],
      "metadata": {
        "id": "PdmXTKz3yMoU"
      },
      "execution_count": null,
      "outputs": []
    },
    {
      "cell_type": "code",
      "source": [
        "answer = Activation(\"softmax\")(answer)"
      ],
      "metadata": {
        "id": "ECTX-yRsyN4a"
      },
      "execution_count": null,
      "outputs": []
    },
    {
      "cell_type": "code",
      "source": [
        "model = Model([input_sequence, question], answer)"
      ],
      "metadata": {
        "id": "JOlHHR7-yPfA"
      },
      "execution_count": null,
      "outputs": []
    },
    {
      "cell_type": "code",
      "source": [
        "model.compile(optimizer=\"rmsprop\", loss = \"categorical_crossentropy\", metrics=[\"accuracy\"])"
      ],
      "metadata": {
        "id": "mAls1osIyQ1K"
      },
      "execution_count": null,
      "outputs": []
    },
    {
      "cell_type": "code",
      "source": [
        "model.summary()"
      ],
      "metadata": {
        "colab": {
          "base_uri": "https://localhost:8080/"
        },
        "id": "J03eify4yUC6",
        "outputId": "67bf8ed7-8a77-4c73-af12-247c0270bf77"
      },
      "execution_count": null,
      "outputs": [
        {
          "output_type": "stream",
          "name": "stdout",
          "text": [
            "Model: \"model\"\n",
            "__________________________________________________________________________________________________\n",
            " Layer (type)                   Output Shape         Param #     Connected to                     \n",
            "==================================================================================================\n",
            " input_1 (InputLayer)           [(None, 156)]        0           []                               \n",
            "                                                                                                  \n",
            " input_2 (InputLayer)           [(None, 6)]          0           []                               \n",
            "                                                                                                  \n",
            " sequential (Sequential)        (None, None, 64)     2432        ['input_1[0][0]']                \n",
            "                                                                                                  \n",
            " sequential_2 (Sequential)      (None, 6, 64)        2432        ['input_2[0][0]']                \n",
            "                                                                                                  \n",
            " dot (Dot)                      (None, 156, 6)       0           ['sequential[0][0]',             \n",
            "                                                                  'sequential_2[0][0]']           \n",
            "                                                                                                  \n",
            " activation (Activation)        (None, 156, 6)       0           ['dot[0][0]']                    \n",
            "                                                                                                  \n",
            " sequential_1 (Sequential)      (None, None, 6)      228         ['input_1[0][0]']                \n",
            "                                                                                                  \n",
            " add (Add)                      (None, 156, 6)       0           ['activation[0][0]',             \n",
            "                                                                  'sequential_1[0][0]']           \n",
            "                                                                                                  \n",
            " permute (Permute)              (None, 6, 156)       0           ['add[0][0]']                    \n",
            "                                                                                                  \n",
            " concatenate (Concatenate)      (None, 6, 220)       0           ['permute[0][0]',                \n",
            "                                                                  'sequential_2[0][0]']           \n",
            "                                                                                                  \n",
            " lstm (LSTM)                    (None, 32)           32384       ['concatenate[0][0]']            \n",
            "                                                                                                  \n",
            " dropout_3 (Dropout)            (None, 32)           0           ['lstm[0][0]']                   \n",
            "                                                                                                  \n",
            " dense (Dense)                  (None, 38)           1254        ['dropout_3[0][0]']              \n",
            "                                                                                                  \n",
            " activation_1 (Activation)      (None, 38)           0           ['dense[0][0]']                  \n",
            "                                                                                                  \n",
            "==================================================================================================\n",
            "Total params: 38,730\n",
            "Trainable params: 38,730\n",
            "Non-trainable params: 0\n",
            "__________________________________________________________________________________________________\n"
          ]
        }
      ]
    },
    {
      "cell_type": "code",
      "source": [
        "history = model.fit([inputs_train, queries_train], answers_train, batch_size=32, epochs = 200, validation_data=([inputs_test, queries_test], answers_test))"
      ],
      "metadata": {
        "colab": {
          "base_uri": "https://localhost:8080/"
        },
        "id": "H826n6lCyVak",
        "outputId": "0ff85e62-25b6-4289-f579-ec635a7d599d"
      },
      "execution_count": null,
      "outputs": [
        {
          "output_type": "stream",
          "name": "stdout",
          "text": [
            "Epoch 1/200\n",
            "313/313 [==============================] - 8s 17ms/step - loss: 0.8548 - accuracy: 0.4856 - val_loss: 0.6939 - val_accuracy: 0.5030\n",
            "Epoch 2/200\n",
            "313/313 [==============================] - 5s 15ms/step - loss: 0.7006 - accuracy: 0.4889 - val_loss: 0.6934 - val_accuracy: 0.5030\n",
            "Epoch 3/200\n",
            "313/313 [==============================] - 5s 15ms/step - loss: 0.6948 - accuracy: 0.5057 - val_loss: 0.6932 - val_accuracy: 0.5030\n",
            "Epoch 4/200\n",
            "313/313 [==============================] - 5s 15ms/step - loss: 0.6946 - accuracy: 0.5084 - val_loss: 0.6940 - val_accuracy: 0.5030\n",
            "Epoch 5/200\n",
            "313/313 [==============================] - 5s 15ms/step - loss: 0.6950 - accuracy: 0.4984 - val_loss: 0.6933 - val_accuracy: 0.4970\n",
            "Epoch 6/200\n",
            "313/313 [==============================] - 5s 17ms/step - loss: 0.6945 - accuracy: 0.4976 - val_loss: 0.6936 - val_accuracy: 0.4970\n",
            "Epoch 7/200\n",
            "313/313 [==============================] - 5s 15ms/step - loss: 0.6943 - accuracy: 0.4971 - val_loss: 0.6932 - val_accuracy: 0.5030\n",
            "Epoch 8/200\n",
            "313/313 [==============================] - 5s 15ms/step - loss: 0.6943 - accuracy: 0.5088 - val_loss: 0.6939 - val_accuracy: 0.4970\n",
            "Epoch 9/200\n",
            "313/313 [==============================] - 5s 15ms/step - loss: 0.6946 - accuracy: 0.5037 - val_loss: 0.6938 - val_accuracy: 0.4850\n",
            "Epoch 10/200\n",
            "313/313 [==============================] - 5s 15ms/step - loss: 0.6943 - accuracy: 0.5051 - val_loss: 0.6950 - val_accuracy: 0.4980\n",
            "Epoch 11/200\n",
            "313/313 [==============================] - 5s 15ms/step - loss: 0.6938 - accuracy: 0.5008 - val_loss: 0.6948 - val_accuracy: 0.4920\n",
            "Epoch 12/200\n",
            "313/313 [==============================] - 5s 15ms/step - loss: 0.6933 - accuracy: 0.5061 - val_loss: 0.6949 - val_accuracy: 0.4730\n",
            "Epoch 13/200\n",
            "313/313 [==============================] - 5s 15ms/step - loss: 0.6923 - accuracy: 0.5147 - val_loss: 0.6952 - val_accuracy: 0.4750\n",
            "Epoch 14/200\n",
            "313/313 [==============================] - 5s 15ms/step - loss: 0.6894 - accuracy: 0.5260 - val_loss: 0.6902 - val_accuracy: 0.5060\n",
            "Epoch 15/200\n",
            "313/313 [==============================] - 5s 15ms/step - loss: 0.6632 - accuracy: 0.6000 - val_loss: 0.6343 - val_accuracy: 0.6590\n",
            "Epoch 16/200\n",
            "313/313 [==============================] - 5s 15ms/step - loss: 0.6361 - accuracy: 0.6492 - val_loss: 0.6158 - val_accuracy: 0.6660\n",
            "Epoch 17/200\n",
            "313/313 [==============================] - 5s 15ms/step - loss: 0.6225 - accuracy: 0.6617 - val_loss: 0.6001 - val_accuracy: 0.6860\n",
            "Epoch 18/200\n",
            "313/313 [==============================] - 5s 15ms/step - loss: 0.6050 - accuracy: 0.6800 - val_loss: 0.5801 - val_accuracy: 0.6890\n",
            "Epoch 19/200\n",
            "313/313 [==============================] - 5s 15ms/step - loss: 0.5857 - accuracy: 0.6970 - val_loss: 0.5660 - val_accuracy: 0.6980\n",
            "Epoch 20/200\n",
            "313/313 [==============================] - 5s 15ms/step - loss: 0.5729 - accuracy: 0.7156 - val_loss: 0.5464 - val_accuracy: 0.7320\n",
            "Epoch 21/200\n",
            "313/313 [==============================] - 5s 15ms/step - loss: 0.5480 - accuracy: 0.7336 - val_loss: 0.5269 - val_accuracy: 0.7580\n",
            "Epoch 22/200\n",
            "313/313 [==============================] - 6s 18ms/step - loss: 0.5394 - accuracy: 0.7382 - val_loss: 0.5135 - val_accuracy: 0.7580\n",
            "Epoch 23/200\n",
            "313/313 [==============================] - 5s 17ms/step - loss: 0.5227 - accuracy: 0.7492 - val_loss: 0.4889 - val_accuracy: 0.7750\n",
            "Epoch 24/200\n",
            "313/313 [==============================] - 9s 27ms/step - loss: 0.5075 - accuracy: 0.7611 - val_loss: 0.4974 - val_accuracy: 0.7650\n",
            "Epoch 25/200\n",
            "313/313 [==============================] - 9s 27ms/step - loss: 0.4905 - accuracy: 0.7706 - val_loss: 0.4702 - val_accuracy: 0.7990\n",
            "Epoch 26/200\n",
            "313/313 [==============================] - 6s 20ms/step - loss: 0.4777 - accuracy: 0.7831 - val_loss: 0.4655 - val_accuracy: 0.7840\n",
            "Epoch 27/200\n",
            "313/313 [==============================] - 6s 19ms/step - loss: 0.4727 - accuracy: 0.7825 - val_loss: 0.4433 - val_accuracy: 0.7940\n",
            "Epoch 28/200\n",
            "313/313 [==============================] - 5s 17ms/step - loss: 0.4566 - accuracy: 0.7936 - val_loss: 0.4316 - val_accuracy: 0.7970\n",
            "Epoch 29/200\n",
            "313/313 [==============================] - 5s 17ms/step - loss: 0.4341 - accuracy: 0.8116 - val_loss: 0.4520 - val_accuracy: 0.7960\n",
            "Epoch 30/200\n",
            "313/313 [==============================] - 5s 17ms/step - loss: 0.4293 - accuracy: 0.8132 - val_loss: 0.4134 - val_accuracy: 0.8140\n",
            "Epoch 31/200\n",
            "313/313 [==============================] - 5s 17ms/step - loss: 0.4227 - accuracy: 0.8119 - val_loss: 0.4211 - val_accuracy: 0.8070\n",
            "Epoch 32/200\n",
            "313/313 [==============================] - 5s 17ms/step - loss: 0.4031 - accuracy: 0.8290 - val_loss: 0.4461 - val_accuracy: 0.8060\n",
            "Epoch 33/200\n",
            "313/313 [==============================] - 5s 16ms/step - loss: 0.3973 - accuracy: 0.8311 - val_loss: 0.4108 - val_accuracy: 0.8160\n",
            "Epoch 34/200\n",
            "313/313 [==============================] - 5s 17ms/step - loss: 0.3893 - accuracy: 0.8338 - val_loss: 0.4137 - val_accuracy: 0.8180\n",
            "Epoch 35/200\n",
            "313/313 [==============================] - 6s 18ms/step - loss: 0.3789 - accuracy: 0.8420 - val_loss: 0.4049 - val_accuracy: 0.8130\n",
            "Epoch 36/200\n",
            "313/313 [==============================] - 5s 15ms/step - loss: 0.3833 - accuracy: 0.8373 - val_loss: 0.3959 - val_accuracy: 0.8150\n",
            "Epoch 37/200\n",
            "313/313 [==============================] - 5s 17ms/step - loss: 0.3726 - accuracy: 0.8382 - val_loss: 0.4008 - val_accuracy: 0.8050\n",
            "Epoch 38/200\n",
            "313/313 [==============================] - 5s 17ms/step - loss: 0.3710 - accuracy: 0.8452 - val_loss: 0.3794 - val_accuracy: 0.8240\n",
            "Epoch 39/200\n",
            "313/313 [==============================] - 8s 26ms/step - loss: 0.3614 - accuracy: 0.8494 - val_loss: 0.3880 - val_accuracy: 0.8270\n",
            "Epoch 40/200\n",
            "313/313 [==============================] - 5s 17ms/step - loss: 0.3651 - accuracy: 0.8432 - val_loss: 0.3792 - val_accuracy: 0.8210\n",
            "Epoch 41/200\n",
            "313/313 [==============================] - 5s 16ms/step - loss: 0.3565 - accuracy: 0.8470 - val_loss: 0.3882 - val_accuracy: 0.8200\n",
            "Epoch 42/200\n",
            "313/313 [==============================] - 5s 16ms/step - loss: 0.3589 - accuracy: 0.8489 - val_loss: 0.3807 - val_accuracy: 0.8210\n",
            "Epoch 43/200\n",
            "313/313 [==============================] - 6s 19ms/step - loss: 0.3507 - accuracy: 0.8509 - val_loss: 0.3832 - val_accuracy: 0.8260\n",
            "Epoch 44/200\n",
            "313/313 [==============================] - 6s 20ms/step - loss: 0.3511 - accuracy: 0.8495 - val_loss: 0.3807 - val_accuracy: 0.8240\n",
            "Epoch 45/200\n",
            "313/313 [==============================] - 7s 23ms/step - loss: 0.3505 - accuracy: 0.8515 - val_loss: 0.3883 - val_accuracy: 0.8240\n",
            "Epoch 46/200\n",
            "313/313 [==============================] - 7s 22ms/step - loss: 0.3440 - accuracy: 0.8556 - val_loss: 0.3966 - val_accuracy: 0.8270\n",
            "Epoch 47/200\n",
            "313/313 [==============================] - 6s 20ms/step - loss: 0.3418 - accuracy: 0.8548 - val_loss: 0.3885 - val_accuracy: 0.8260\n",
            "Epoch 48/200\n",
            "313/313 [==============================] - 5s 17ms/step - loss: 0.3405 - accuracy: 0.8558 - val_loss: 0.4209 - val_accuracy: 0.8310\n",
            "Epoch 49/200\n",
            "313/313 [==============================] - 5s 15ms/step - loss: 0.3388 - accuracy: 0.8552 - val_loss: 0.3783 - val_accuracy: 0.8260\n",
            "Epoch 50/200\n",
            "313/313 [==============================] - 5s 17ms/step - loss: 0.3335 - accuracy: 0.8560 - val_loss: 0.3795 - val_accuracy: 0.8290\n",
            "Epoch 51/200\n",
            "313/313 [==============================] - 5s 17ms/step - loss: 0.3316 - accuracy: 0.8588 - val_loss: 0.3787 - val_accuracy: 0.8200\n",
            "Epoch 52/200\n",
            "313/313 [==============================] - 5s 15ms/step - loss: 0.3260 - accuracy: 0.8599 - val_loss: 0.3807 - val_accuracy: 0.8180\n",
            "Epoch 53/200\n",
            "313/313 [==============================] - 5s 15ms/step - loss: 0.3275 - accuracy: 0.8613 - val_loss: 0.3870 - val_accuracy: 0.8170\n",
            "Epoch 54/200\n",
            "313/313 [==============================] - 5s 15ms/step - loss: 0.3325 - accuracy: 0.8584 - val_loss: 0.3795 - val_accuracy: 0.8220\n",
            "Epoch 55/200\n",
            "313/313 [==============================] - 5s 15ms/step - loss: 0.3261 - accuracy: 0.8649 - val_loss: 0.3762 - val_accuracy: 0.8260\n",
            "Epoch 56/200\n",
            "313/313 [==============================] - 5s 15ms/step - loss: 0.3262 - accuracy: 0.8582 - val_loss: 0.4071 - val_accuracy: 0.8270\n",
            "Epoch 57/200\n",
            "313/313 [==============================] - 5s 15ms/step - loss: 0.3230 - accuracy: 0.8626 - val_loss: 0.3844 - val_accuracy: 0.8250\n",
            "Epoch 58/200\n",
            "313/313 [==============================] - 5s 15ms/step - loss: 0.3205 - accuracy: 0.8630 - val_loss: 0.4182 - val_accuracy: 0.8330\n",
            "Epoch 59/200\n",
            "313/313 [==============================] - 5s 15ms/step - loss: 0.3173 - accuracy: 0.8639 - val_loss: 0.3937 - val_accuracy: 0.8220\n",
            "Epoch 60/200\n",
            "313/313 [==============================] - 5s 15ms/step - loss: 0.3152 - accuracy: 0.8659 - val_loss: 0.3901 - val_accuracy: 0.8240\n",
            "Epoch 61/200\n",
            "313/313 [==============================] - 5s 15ms/step - loss: 0.3147 - accuracy: 0.8674 - val_loss: 0.3884 - val_accuracy: 0.8240\n",
            "Epoch 62/200\n",
            "313/313 [==============================] - 5s 15ms/step - loss: 0.3104 - accuracy: 0.8664 - val_loss: 0.3974 - val_accuracy: 0.8270\n",
            "Epoch 63/200\n",
            "313/313 [==============================] - 5s 15ms/step - loss: 0.3097 - accuracy: 0.8726 - val_loss: 0.3902 - val_accuracy: 0.8260\n",
            "Epoch 64/200\n",
            "313/313 [==============================] - 5s 15ms/step - loss: 0.3117 - accuracy: 0.8673 - val_loss: 0.4049 - val_accuracy: 0.8210\n",
            "Epoch 65/200\n",
            "313/313 [==============================] - 5s 15ms/step - loss: 0.3038 - accuracy: 0.8708 - val_loss: 0.4063 - val_accuracy: 0.8150\n",
            "Epoch 66/200\n",
            "313/313 [==============================] - 5s 15ms/step - loss: 0.3072 - accuracy: 0.8693 - val_loss: 0.4069 - val_accuracy: 0.8240\n",
            "Epoch 67/200\n",
            "313/313 [==============================] - 5s 17ms/step - loss: 0.3044 - accuracy: 0.8709 - val_loss: 0.3944 - val_accuracy: 0.8210\n",
            "Epoch 68/200\n",
            "313/313 [==============================] - 5s 15ms/step - loss: 0.2991 - accuracy: 0.8755 - val_loss: 0.4134 - val_accuracy: 0.8230\n",
            "Epoch 69/200\n",
            "313/313 [==============================] - 5s 15ms/step - loss: 0.2989 - accuracy: 0.8747 - val_loss: 0.3911 - val_accuracy: 0.8200\n",
            "Epoch 70/200\n",
            "313/313 [==============================] - 5s 15ms/step - loss: 0.2987 - accuracy: 0.8711 - val_loss: 0.4009 - val_accuracy: 0.8200\n",
            "Epoch 71/200\n",
            "313/313 [==============================] - 5s 15ms/step - loss: 0.2990 - accuracy: 0.8733 - val_loss: 0.3992 - val_accuracy: 0.8210\n",
            "Epoch 72/200\n",
            "313/313 [==============================] - 5s 15ms/step - loss: 0.2993 - accuracy: 0.8744 - val_loss: 0.4021 - val_accuracy: 0.8150\n",
            "Epoch 73/200\n",
            "313/313 [==============================] - 5s 15ms/step - loss: 0.2879 - accuracy: 0.8777 - val_loss: 0.4080 - val_accuracy: 0.8210\n",
            "Epoch 74/200\n",
            "313/313 [==============================] - 5s 15ms/step - loss: 0.2883 - accuracy: 0.8769 - val_loss: 0.4175 - val_accuracy: 0.8260\n",
            "Epoch 75/200\n",
            "313/313 [==============================] - 5s 15ms/step - loss: 0.2949 - accuracy: 0.8730 - val_loss: 0.4182 - val_accuracy: 0.8240\n",
            "Epoch 76/200\n",
            "313/313 [==============================] - 5s 15ms/step - loss: 0.2856 - accuracy: 0.8827 - val_loss: 0.4280 - val_accuracy: 0.8220\n",
            "Epoch 77/200\n",
            "313/313 [==============================] - 8s 25ms/step - loss: 0.2915 - accuracy: 0.8767 - val_loss: 0.4271 - val_accuracy: 0.8190\n",
            "Epoch 78/200\n",
            "313/313 [==============================] - 5s 17ms/step - loss: 0.2876 - accuracy: 0.8787 - val_loss: 0.4322 - val_accuracy: 0.8240\n",
            "Epoch 79/200\n",
            "313/313 [==============================] - 5s 15ms/step - loss: 0.2860 - accuracy: 0.8793 - val_loss: 0.4214 - val_accuracy: 0.8200\n",
            "Epoch 80/200\n",
            "313/313 [==============================] - 5s 15ms/step - loss: 0.2853 - accuracy: 0.8821 - val_loss: 0.4085 - val_accuracy: 0.8120\n",
            "Epoch 81/200\n",
            "313/313 [==============================] - 5s 15ms/step - loss: 0.2807 - accuracy: 0.8842 - val_loss: 0.4170 - val_accuracy: 0.8110\n",
            "Epoch 82/200\n",
            "313/313 [==============================] - 5s 15ms/step - loss: 0.2817 - accuracy: 0.8855 - val_loss: 0.4246 - val_accuracy: 0.8230\n",
            "Epoch 83/200\n",
            "313/313 [==============================] - 5s 15ms/step - loss: 0.2745 - accuracy: 0.8850 - val_loss: 0.4398 - val_accuracy: 0.8120\n",
            "Epoch 84/200\n",
            "313/313 [==============================] - 5s 15ms/step - loss: 0.2733 - accuracy: 0.8839 - val_loss: 0.4371 - val_accuracy: 0.8180\n",
            "Epoch 85/200\n",
            "313/313 [==============================] - 5s 15ms/step - loss: 0.2747 - accuracy: 0.8831 - val_loss: 0.4374 - val_accuracy: 0.8170\n",
            "Epoch 86/200\n",
            "313/313 [==============================] - 5s 15ms/step - loss: 0.2744 - accuracy: 0.8859 - val_loss: 0.4191 - val_accuracy: 0.8170\n",
            "Epoch 87/200\n",
            "313/313 [==============================] - 5s 15ms/step - loss: 0.2714 - accuracy: 0.8850 - val_loss: 0.4380 - val_accuracy: 0.8100\n",
            "Epoch 88/200\n",
            "313/313 [==============================] - 5s 15ms/step - loss: 0.2731 - accuracy: 0.8886 - val_loss: 0.4384 - val_accuracy: 0.8100\n",
            "Epoch 89/200\n",
            "313/313 [==============================] - 5s 17ms/step - loss: 0.2671 - accuracy: 0.8878 - val_loss: 0.4584 - val_accuracy: 0.8210\n",
            "Epoch 90/200\n",
            "313/313 [==============================] - 5s 15ms/step - loss: 0.2646 - accuracy: 0.8875 - val_loss: 0.4470 - val_accuracy: 0.8180\n",
            "Epoch 91/200\n",
            "313/313 [==============================] - 5s 15ms/step - loss: 0.2706 - accuracy: 0.8901 - val_loss: 0.4553 - val_accuracy: 0.8210\n",
            "Epoch 92/200\n",
            "313/313 [==============================] - 5s 15ms/step - loss: 0.2693 - accuracy: 0.8896 - val_loss: 0.4350 - val_accuracy: 0.8060\n",
            "Epoch 93/200\n",
            "313/313 [==============================] - 5s 15ms/step - loss: 0.2639 - accuracy: 0.8932 - val_loss: 0.4381 - val_accuracy: 0.8120\n",
            "Epoch 94/200\n",
            "313/313 [==============================] - 5s 15ms/step - loss: 0.2605 - accuracy: 0.8955 - val_loss: 0.4989 - val_accuracy: 0.8160\n",
            "Epoch 95/200\n",
            "313/313 [==============================] - 5s 15ms/step - loss: 0.2560 - accuracy: 0.8924 - val_loss: 0.4831 - val_accuracy: 0.8090\n",
            "Epoch 96/200\n",
            "313/313 [==============================] - 5s 15ms/step - loss: 0.2572 - accuracy: 0.8940 - val_loss: 0.4587 - val_accuracy: 0.8090\n",
            "Epoch 97/200\n",
            "313/313 [==============================] - 5s 15ms/step - loss: 0.2662 - accuracy: 0.8906 - val_loss: 0.4473 - val_accuracy: 0.8150\n",
            "Epoch 98/200\n",
            "313/313 [==============================] - 5s 15ms/step - loss: 0.2585 - accuracy: 0.8921 - val_loss: 0.4620 - val_accuracy: 0.8140\n",
            "Epoch 99/200\n",
            "313/313 [==============================] - 5s 15ms/step - loss: 0.2535 - accuracy: 0.8981 - val_loss: 0.4535 - val_accuracy: 0.8190\n",
            "Epoch 100/200\n",
            "313/313 [==============================] - 5s 15ms/step - loss: 0.2545 - accuracy: 0.8919 - val_loss: 0.4637 - val_accuracy: 0.8110\n",
            "Epoch 101/200\n",
            "313/313 [==============================] - 5s 15ms/step - loss: 0.2548 - accuracy: 0.8925 - val_loss: 0.4459 - val_accuracy: 0.8150\n",
            "Epoch 102/200\n",
            "313/313 [==============================] - 5s 15ms/step - loss: 0.2501 - accuracy: 0.8967 - val_loss: 0.4727 - val_accuracy: 0.8170\n",
            "Epoch 103/200\n",
            "313/313 [==============================] - 5s 15ms/step - loss: 0.2472 - accuracy: 0.8958 - val_loss: 0.4600 - val_accuracy: 0.8140\n",
            "Epoch 104/200\n",
            "313/313 [==============================] - 5s 15ms/step - loss: 0.2457 - accuracy: 0.8996 - val_loss: 0.4743 - val_accuracy: 0.8150\n",
            "Epoch 105/200\n",
            "313/313 [==============================] - 11s 36ms/step - loss: 0.2470 - accuracy: 0.8997 - val_loss: 0.5023 - val_accuracy: 0.8130\n",
            "Epoch 106/200\n",
            "313/313 [==============================] - 7s 22ms/step - loss: 0.2482 - accuracy: 0.8992 - val_loss: 0.4749 - val_accuracy: 0.8140\n",
            "Epoch 107/200\n",
            "313/313 [==============================] - 5s 15ms/step - loss: 0.2434 - accuracy: 0.8985 - val_loss: 0.4813 - val_accuracy: 0.8130\n",
            "Epoch 108/200\n",
            "313/313 [==============================] - 5s 15ms/step - loss: 0.2432 - accuracy: 0.9009 - val_loss: 0.4662 - val_accuracy: 0.8110\n",
            "Epoch 109/200\n",
            "313/313 [==============================] - 5s 15ms/step - loss: 0.2466 - accuracy: 0.8975 - val_loss: 0.4488 - val_accuracy: 0.8230\n",
            "Epoch 110/200\n",
            "313/313 [==============================] - 5s 15ms/step - loss: 0.2429 - accuracy: 0.9027 - val_loss: 0.4972 - val_accuracy: 0.8110\n",
            "Epoch 111/200\n",
            "313/313 [==============================] - 5s 15ms/step - loss: 0.2311 - accuracy: 0.9054 - val_loss: 0.5271 - val_accuracy: 0.8120\n",
            "Epoch 112/200\n",
            "313/313 [==============================] - 5s 15ms/step - loss: 0.2370 - accuracy: 0.9029 - val_loss: 0.4797 - val_accuracy: 0.8150\n",
            "Epoch 113/200\n",
            "313/313 [==============================] - 5s 15ms/step - loss: 0.2373 - accuracy: 0.9030 - val_loss: 0.4810 - val_accuracy: 0.8100\n",
            "Epoch 114/200\n",
            "313/313 [==============================] - 5s 15ms/step - loss: 0.2372 - accuracy: 0.9041 - val_loss: 0.4925 - val_accuracy: 0.8070\n",
            "Epoch 115/200\n",
            "313/313 [==============================] - 5s 15ms/step - loss: 0.2311 - accuracy: 0.9055 - val_loss: 0.4892 - val_accuracy: 0.8200\n",
            "Epoch 116/200\n",
            "313/313 [==============================] - 5s 15ms/step - loss: 0.2318 - accuracy: 0.9068 - val_loss: 0.4871 - val_accuracy: 0.8170\n",
            "Epoch 117/200\n",
            "313/313 [==============================] - 5s 15ms/step - loss: 0.2320 - accuracy: 0.9042 - val_loss: 0.4955 - val_accuracy: 0.8090\n",
            "Epoch 118/200\n",
            "313/313 [==============================] - 5s 15ms/step - loss: 0.2245 - accuracy: 0.9076 - val_loss: 0.5264 - val_accuracy: 0.8100\n",
            "Epoch 119/200\n",
            "313/313 [==============================] - 5s 15ms/step - loss: 0.2252 - accuracy: 0.9082 - val_loss: 0.4852 - val_accuracy: 0.8160\n",
            "Epoch 120/200\n",
            "313/313 [==============================] - 5s 15ms/step - loss: 0.2307 - accuracy: 0.9076 - val_loss: 0.5005 - val_accuracy: 0.8110\n",
            "Epoch 121/200\n",
            "313/313 [==============================] - 5s 15ms/step - loss: 0.2255 - accuracy: 0.9081 - val_loss: 0.5178 - val_accuracy: 0.8130\n",
            "Epoch 122/200\n",
            "313/313 [==============================] - 5s 15ms/step - loss: 0.2209 - accuracy: 0.9136 - val_loss: 0.4895 - val_accuracy: 0.8160\n",
            "Epoch 123/200\n",
            "313/313 [==============================] - 5s 15ms/step - loss: 0.2260 - accuracy: 0.9073 - val_loss: 0.4708 - val_accuracy: 0.8130\n",
            "Epoch 124/200\n",
            "313/313 [==============================] - 5s 15ms/step - loss: 0.2194 - accuracy: 0.9130 - val_loss: 0.5011 - val_accuracy: 0.8130\n",
            "Epoch 125/200\n",
            "313/313 [==============================] - 6s 20ms/step - loss: 0.2207 - accuracy: 0.9087 - val_loss: 0.5010 - val_accuracy: 0.8130\n",
            "Epoch 126/200\n",
            "313/313 [==============================] - 5s 15ms/step - loss: 0.2178 - accuracy: 0.9139 - val_loss: 0.5298 - val_accuracy: 0.8110\n",
            "Epoch 127/200\n",
            "313/313 [==============================] - 5s 15ms/step - loss: 0.2156 - accuracy: 0.9163 - val_loss: 0.5196 - val_accuracy: 0.8160\n",
            "Epoch 128/200\n",
            "313/313 [==============================] - 5s 15ms/step - loss: 0.2181 - accuracy: 0.9144 - val_loss: 0.5236 - val_accuracy: 0.8110\n",
            "Epoch 129/200\n",
            "313/313 [==============================] - 5s 15ms/step - loss: 0.2139 - accuracy: 0.9124 - val_loss: 0.5236 - val_accuracy: 0.8170\n",
            "Epoch 130/200\n",
            "313/313 [==============================] - 5s 15ms/step - loss: 0.2142 - accuracy: 0.9136 - val_loss: 0.5149 - val_accuracy: 0.8070\n",
            "Epoch 131/200\n",
            "313/313 [==============================] - 5s 15ms/step - loss: 0.2179 - accuracy: 0.9111 - val_loss: 0.5110 - val_accuracy: 0.8200\n",
            "Epoch 132/200\n",
            "313/313 [==============================] - 5s 15ms/step - loss: 0.2167 - accuracy: 0.9108 - val_loss: 0.5401 - val_accuracy: 0.8100\n",
            "Epoch 133/200\n",
            "313/313 [==============================] - 5s 15ms/step - loss: 0.2158 - accuracy: 0.9147 - val_loss: 0.5182 - val_accuracy: 0.8140\n",
            "Epoch 134/200\n",
            "313/313 [==============================] - 5s 15ms/step - loss: 0.2092 - accuracy: 0.9149 - val_loss: 0.5551 - val_accuracy: 0.8120\n",
            "Epoch 135/200\n",
            "313/313 [==============================] - 5s 15ms/step - loss: 0.2134 - accuracy: 0.9148 - val_loss: 0.5339 - val_accuracy: 0.8180\n",
            "Epoch 136/200\n",
            "313/313 [==============================] - 5s 15ms/step - loss: 0.2151 - accuracy: 0.9133 - val_loss: 0.5634 - val_accuracy: 0.8020\n",
            "Epoch 137/200\n",
            "313/313 [==============================] - 5s 15ms/step - loss: 0.2082 - accuracy: 0.9147 - val_loss: 0.5291 - val_accuracy: 0.8130\n",
            "Epoch 138/200\n",
            "313/313 [==============================] - 5s 15ms/step - loss: 0.2073 - accuracy: 0.9183 - val_loss: 0.5211 - val_accuracy: 0.8090\n",
            "Epoch 139/200\n",
            "313/313 [==============================] - 5s 15ms/step - loss: 0.2052 - accuracy: 0.9184 - val_loss: 0.5579 - val_accuracy: 0.8070\n",
            "Epoch 140/200\n",
            "313/313 [==============================] - 5s 15ms/step - loss: 0.2083 - accuracy: 0.9173 - val_loss: 0.5516 - val_accuracy: 0.8200\n",
            "Epoch 141/200\n",
            "313/313 [==============================] - 5s 15ms/step - loss: 0.2076 - accuracy: 0.9184 - val_loss: 0.5404 - val_accuracy: 0.8160\n",
            "Epoch 142/200\n",
            "313/313 [==============================] - 5s 15ms/step - loss: 0.2086 - accuracy: 0.9158 - val_loss: 0.5467 - val_accuracy: 0.8090\n",
            "Epoch 143/200\n",
            "313/313 [==============================] - 5s 15ms/step - loss: 0.2100 - accuracy: 0.9161 - val_loss: 0.5075 - val_accuracy: 0.8170\n",
            "Epoch 144/200\n",
            "313/313 [==============================] - 5s 15ms/step - loss: 0.2053 - accuracy: 0.9184 - val_loss: 0.5302 - val_accuracy: 0.8110\n",
            "Epoch 145/200\n",
            "313/313 [==============================] - 5s 15ms/step - loss: 0.2005 - accuracy: 0.9196 - val_loss: 0.6186 - val_accuracy: 0.8120\n",
            "Epoch 146/200\n",
            "313/313 [==============================] - 5s 15ms/step - loss: 0.2048 - accuracy: 0.9179 - val_loss: 0.5462 - val_accuracy: 0.8150\n",
            "Epoch 147/200\n",
            "313/313 [==============================] - 5s 15ms/step - loss: 0.2029 - accuracy: 0.9179 - val_loss: 0.5665 - val_accuracy: 0.8060\n",
            "Epoch 148/200\n",
            "313/313 [==============================] - 5s 15ms/step - loss: 0.2019 - accuracy: 0.9180 - val_loss: 0.5415 - val_accuracy: 0.8130\n",
            "Epoch 149/200\n",
            "313/313 [==============================] - 5s 15ms/step - loss: 0.1966 - accuracy: 0.9218 - val_loss: 0.5784 - val_accuracy: 0.8170\n",
            "Epoch 150/200\n",
            "313/313 [==============================] - 5s 15ms/step - loss: 0.1950 - accuracy: 0.9205 - val_loss: 0.5459 - val_accuracy: 0.8100\n",
            "Epoch 151/200\n",
            "313/313 [==============================] - 5s 15ms/step - loss: 0.1972 - accuracy: 0.9194 - val_loss: 0.5544 - val_accuracy: 0.8200\n",
            "Epoch 152/200\n",
            "313/313 [==============================] - 5s 15ms/step - loss: 0.1950 - accuracy: 0.9243 - val_loss: 0.5504 - val_accuracy: 0.8210\n",
            "Epoch 153/200\n",
            "313/313 [==============================] - 5s 16ms/step - loss: 0.1951 - accuracy: 0.9222 - val_loss: 0.5633 - val_accuracy: 0.8140\n",
            "Epoch 154/200\n",
            "313/313 [==============================] - 5s 15ms/step - loss: 0.1949 - accuracy: 0.9214 - val_loss: 0.5834 - val_accuracy: 0.8180\n",
            "Epoch 155/200\n",
            "313/313 [==============================] - 5s 15ms/step - loss: 0.1909 - accuracy: 0.9234 - val_loss: 0.5996 - val_accuracy: 0.8050\n",
            "Epoch 156/200\n",
            "313/313 [==============================] - 5s 15ms/step - loss: 0.1967 - accuracy: 0.9242 - val_loss: 0.6050 - val_accuracy: 0.8080\n",
            "Epoch 157/200\n",
            "313/313 [==============================] - 5s 15ms/step - loss: 0.1900 - accuracy: 0.9266 - val_loss: 0.5894 - val_accuracy: 0.8110\n",
            "Epoch 158/200\n",
            "313/313 [==============================] - 5s 15ms/step - loss: 0.1962 - accuracy: 0.9228 - val_loss: 0.5822 - val_accuracy: 0.8110\n",
            "Epoch 159/200\n",
            "313/313 [==============================] - 5s 16ms/step - loss: 0.1878 - accuracy: 0.9256 - val_loss: 0.5852 - val_accuracy: 0.8090\n",
            "Epoch 160/200\n",
            "313/313 [==============================] - 5s 16ms/step - loss: 0.1890 - accuracy: 0.9239 - val_loss: 0.6034 - val_accuracy: 0.8090\n",
            "Epoch 161/200\n",
            "313/313 [==============================] - 5s 15ms/step - loss: 0.1857 - accuracy: 0.9286 - val_loss: 0.6215 - val_accuracy: 0.8000\n",
            "Epoch 162/200\n",
            "313/313 [==============================] - 6s 20ms/step - loss: 0.1907 - accuracy: 0.9257 - val_loss: 0.5993 - val_accuracy: 0.8070\n",
            "Epoch 163/200\n",
            "313/313 [==============================] - 7s 21ms/step - loss: 0.1798 - accuracy: 0.9286 - val_loss: 0.5978 - val_accuracy: 0.8070\n",
            "Epoch 164/200\n",
            "313/313 [==============================] - 5s 16ms/step - loss: 0.1830 - accuracy: 0.9279 - val_loss: 0.6006 - val_accuracy: 0.8040\n",
            "Epoch 165/200\n",
            "313/313 [==============================] - 6s 18ms/step - loss: 0.1933 - accuracy: 0.9235 - val_loss: 0.5592 - val_accuracy: 0.8170\n",
            "Epoch 166/200\n",
            "313/313 [==============================] - 5s 17ms/step - loss: 0.1803 - accuracy: 0.9268 - val_loss: 0.6123 - val_accuracy: 0.8140\n",
            "Epoch 167/200\n",
            "313/313 [==============================] - 5s 16ms/step - loss: 0.1818 - accuracy: 0.9298 - val_loss: 0.6274 - val_accuracy: 0.8050\n",
            "Epoch 168/200\n",
            "313/313 [==============================] - 5s 15ms/step - loss: 0.1769 - accuracy: 0.9294 - val_loss: 0.6127 - val_accuracy: 0.8110\n",
            "Epoch 169/200\n",
            "313/313 [==============================] - 5s 16ms/step - loss: 0.1813 - accuracy: 0.9303 - val_loss: 0.6198 - val_accuracy: 0.8110\n",
            "Epoch 170/200\n",
            "313/313 [==============================] - 5s 15ms/step - loss: 0.1788 - accuracy: 0.9292 - val_loss: 0.5810 - val_accuracy: 0.8130\n",
            "Epoch 171/200\n",
            "313/313 [==============================] - 5s 15ms/step - loss: 0.1777 - accuracy: 0.9286 - val_loss: 0.6074 - val_accuracy: 0.8190\n",
            "Epoch 172/200\n",
            "313/313 [==============================] - 5s 15ms/step - loss: 0.1733 - accuracy: 0.9290 - val_loss: 0.5973 - val_accuracy: 0.8170\n",
            "Epoch 173/200\n",
            "313/313 [==============================] - 7s 24ms/step - loss: 0.1823 - accuracy: 0.9274 - val_loss: 0.5799 - val_accuracy: 0.8190\n",
            "Epoch 174/200\n",
            "313/313 [==============================] - 5s 16ms/step - loss: 0.1741 - accuracy: 0.9313 - val_loss: 0.6174 - val_accuracy: 0.8130\n",
            "Epoch 175/200\n",
            "313/313 [==============================] - 5s 17ms/step - loss: 0.1808 - accuracy: 0.9279 - val_loss: 0.6431 - val_accuracy: 0.7960\n",
            "Epoch 176/200\n",
            "313/313 [==============================] - 6s 18ms/step - loss: 0.1788 - accuracy: 0.9297 - val_loss: 0.6462 - val_accuracy: 0.8100\n",
            "Epoch 177/200\n",
            "313/313 [==============================] - 6s 18ms/step - loss: 0.1761 - accuracy: 0.9331 - val_loss: 0.6424 - val_accuracy: 0.8110\n",
            "Epoch 178/200\n",
            "313/313 [==============================] - 5s 16ms/step - loss: 0.1794 - accuracy: 0.9290 - val_loss: 0.6058 - val_accuracy: 0.8200\n",
            "Epoch 179/200\n",
            "313/313 [==============================] - 5s 16ms/step - loss: 0.1767 - accuracy: 0.9293 - val_loss: 0.6102 - val_accuracy: 0.8150\n",
            "Epoch 180/200\n",
            "313/313 [==============================] - 5s 16ms/step - loss: 0.1745 - accuracy: 0.9332 - val_loss: 0.6308 - val_accuracy: 0.8060\n",
            "Epoch 181/200\n",
            "313/313 [==============================] - 5s 16ms/step - loss: 0.1702 - accuracy: 0.9331 - val_loss: 0.6601 - val_accuracy: 0.8050\n",
            "Epoch 182/200\n",
            "313/313 [==============================] - 5s 16ms/step - loss: 0.1742 - accuracy: 0.9316 - val_loss: 0.6068 - val_accuracy: 0.8130\n",
            "Epoch 183/200\n",
            "313/313 [==============================] - 5s 16ms/step - loss: 0.1736 - accuracy: 0.9304 - val_loss: 0.6418 - val_accuracy: 0.8240\n",
            "Epoch 184/200\n",
            "313/313 [==============================] - 5s 16ms/step - loss: 0.1686 - accuracy: 0.9333 - val_loss: 0.6216 - val_accuracy: 0.8120\n",
            "Epoch 185/200\n",
            "313/313 [==============================] - 5s 16ms/step - loss: 0.1727 - accuracy: 0.9315 - val_loss: 0.6617 - val_accuracy: 0.8100\n",
            "Epoch 186/200\n",
            "313/313 [==============================] - 5s 16ms/step - loss: 0.1734 - accuracy: 0.9290 - val_loss: 0.6237 - val_accuracy: 0.8070\n",
            "Epoch 187/200\n",
            "313/313 [==============================] - 5s 16ms/step - loss: 0.1655 - accuracy: 0.9363 - val_loss: 0.6122 - val_accuracy: 0.8130\n",
            "Epoch 188/200\n",
            "313/313 [==============================] - 5s 15ms/step - loss: 0.1728 - accuracy: 0.9321 - val_loss: 0.6525 - val_accuracy: 0.8200\n",
            "Epoch 189/200\n",
            "313/313 [==============================] - 5s 15ms/step - loss: 0.1659 - accuracy: 0.9356 - val_loss: 0.6138 - val_accuracy: 0.8150\n",
            "Epoch 190/200\n",
            "313/313 [==============================] - 5s 16ms/step - loss: 0.1662 - accuracy: 0.9341 - val_loss: 0.6036 - val_accuracy: 0.8160\n",
            "Epoch 191/200\n",
            "313/313 [==============================] - 5s 16ms/step - loss: 0.1684 - accuracy: 0.9369 - val_loss: 0.6287 - val_accuracy: 0.8100\n",
            "Epoch 192/200\n",
            "313/313 [==============================] - 5s 16ms/step - loss: 0.1665 - accuracy: 0.9366 - val_loss: 0.6384 - val_accuracy: 0.8190\n",
            "Epoch 193/200\n",
            "313/313 [==============================] - 5s 16ms/step - loss: 0.1604 - accuracy: 0.9364 - val_loss: 0.6614 - val_accuracy: 0.8150\n",
            "Epoch 194/200\n",
            "313/313 [==============================] - 5s 16ms/step - loss: 0.1639 - accuracy: 0.9361 - val_loss: 0.6169 - val_accuracy: 0.8130\n",
            "Epoch 195/200\n",
            "313/313 [==============================] - 5s 15ms/step - loss: 0.1673 - accuracy: 0.9335 - val_loss: 0.6702 - val_accuracy: 0.8190\n",
            "Epoch 196/200\n",
            "313/313 [==============================] - 5s 16ms/step - loss: 0.1584 - accuracy: 0.9379 - val_loss: 0.6360 - val_accuracy: 0.8140\n",
            "Epoch 197/200\n",
            "313/313 [==============================] - 5s 16ms/step - loss: 0.1657 - accuracy: 0.9344 - val_loss: 0.6099 - val_accuracy: 0.8100\n",
            "Epoch 198/200\n",
            "313/313 [==============================] - 5s 16ms/step - loss: 0.1613 - accuracy: 0.9371 - val_loss: 0.6457 - val_accuracy: 0.8220\n",
            "Epoch 199/200\n",
            "313/313 [==============================] - 5s 16ms/step - loss: 0.1674 - accuracy: 0.9347 - val_loss: 0.6389 - val_accuracy: 0.8120\n",
            "Epoch 200/200\n",
            "313/313 [==============================] - 5s 16ms/step - loss: 0.1561 - accuracy: 0.9380 - val_loss: 0.6955 - val_accuracy: 0.8090\n"
          ]
        }
      ]
    },
    {
      "cell_type": "code",
      "source": [
        "filename = \"chatbot.h5\"\n",
        "model.save(filename)"
      ],
      "metadata": {
        "id": "5F6c9Vh7zLAz"
      },
      "execution_count": null,
      "outputs": []
    },
    {
      "cell_type": "code",
      "source": [
        "import matplotlib.pyplot as plt\n",
        "print(history.history.keys())\n",
        "# summarize history for accuracy\n",
        "plt.plot(history.history['accuracy'])\n",
        "plt.plot(history.history['val_accuracy'])\n",
        "plt.title('model accuracy')\n",
        "plt.ylabel('accuracy')\n",
        "plt.xlabel('epoch')\n",
        "plt.legend(['train', 'test'], loc='upper left')\n",
        "plt.show()"
      ],
      "metadata": {
        "colab": {
          "base_uri": "https://localhost:8080/",
          "height": 312
        },
        "id": "NoBEQihizOzQ",
        "outputId": "bb4b764c-14f0-40f4-af49-84fcdc7eb84f"
      },
      "execution_count": null,
      "outputs": [
        {
          "output_type": "stream",
          "name": "stdout",
          "text": [
            "dict_keys(['loss', 'accuracy', 'val_loss', 'val_accuracy'])\n"
          ]
        },
        {
          "output_type": "display_data",
          "data": {
            "text/plain": [
              "<Figure size 432x288 with 1 Axes>"
            ],
            "image/png": "[encoded data removed]"
          },
          "metadata": {
            "needs_background": "light"
          }
        }
      ]
    },
    {
      "cell_type": "code",
      "source": [
        "pred_results = model.predict(([inputs_test, queries_test]))"
      ],
      "metadata": {
        "colab": {
          "base_uri": "https://localhost:8080/"
        },
        "id": "scndSng9zQ58",
        "outputId": "3ac745fb-4c52-47e3-ef71-51a35babd036"
      },
      "execution_count": null,
      "outputs": [
        {
          "output_type": "stream",
          "name": "stdout",
          "text": [
            "32/32 [==============================] - 1s 4ms/step\n"
          ]
        }
      ]
    },
    {
      "cell_type": "code",
      "source": [
        "pred_results"
      ],
      "metadata": {
        "colab": {
          "base_uri": "https://localhost:8080/"
        },
        "id": "DSnln9VLzTTQ",
        "outputId": "d3c228f7-6534-4504-f30c-1e0878874bbb"
      },
      "execution_count": null,
      "outputs": [
        {
          "output_type": "execute_result",
          "data": {
            "text/plain": [
              "array([[3.4916373e-12, 3.2735650e-12, 3.2660682e-12, ..., 3.2937067e-12,\n",
              "        3.5724763e-12, 3.5921956e-12],\n",
              "       [8.2275387e-14, 7.5386610e-14, 7.7533310e-14, ..., 8.0530905e-14,\n",
              "        8.4242556e-14, 8.5230061e-14],\n",
              "       [7.2345946e-10, 7.1160372e-10, 6.9601364e-10, ..., 6.9017980e-10,\n",
              "        7.1475548e-10, 7.2320977e-10],\n",
              "       ...,\n",
              "       [3.8565496e-12, 3.4218136e-12, 3.5992685e-12, ..., 3.7502072e-12,\n",
              "        3.8716213e-12, 3.8796197e-12],\n",
              "       [1.8696747e-11, 1.8212569e-11, 1.9216871e-11, ..., 1.9086828e-11,\n",
              "        1.9632554e-11, 1.9169426e-11],\n",
              "       [6.7619983e-15, 6.2760758e-15, 6.6467086e-15, ..., 6.3639030e-15,\n",
              "        5.7242715e-15, 5.7654716e-15]], dtype=float32)"
            ]
          },
          "metadata": {},
          "execution_count": 59
        }
      ]
    },
    {
      "cell_type": "code",
      "source": [
        "pred_results[0]"
      ],
      "metadata": {
        "colab": {
          "base_uri": "https://localhost:8080/"
        },
        "id": "mc8kyfzozVk8",
        "outputId": "cf4d16f5-00ed-490c-e8b6-813b7ed1e3e4"
      },
      "execution_count": null,
      "outputs": [
        {
          "output_type": "execute_result",
          "data": {
            "text/plain": [
              "array([3.4916373e-12, 3.2735650e-12, 3.2660682e-12, 3.3376589e-12,\n",
              "       3.5882785e-12, 3.4892009e-12, 3.2720042e-12, 3.4554638e-12,\n",
              "       3.5150916e-12, 3.2835952e-12, 3.3159452e-12, 3.2607153e-12,\n",
              "       3.4969428e-12, 3.3272475e-12, 3.2538813e-12, 3.3752892e-12,\n",
              "       3.4550947e-12, 3.1890350e-12, 3.4634611e-12, 3.2066010e-12,\n",
              "       3.3022491e-12, 3.1830916e-12, 3.2571224e-12, 3.4215699e-12,\n",
              "       3.2948377e-12, 3.5218430e-12, 3.4387768e-12, 1.0073498e-03,\n",
              "       3.4722583e-12, 3.3636312e-12, 9.9899268e-01, 3.1501028e-12,\n",
              "       3.4919173e-12, 3.4857553e-12, 3.2328359e-12, 3.2937067e-12,\n",
              "       3.5724763e-12, 3.5921956e-12], dtype=float32)"
            ]
          },
          "metadata": {},
          "execution_count": 60
        }
      ]
    },
    {
      "cell_type": "code",
      "source": [
        "val_max = np.argmax(pred_results[0])"
      ],
      "metadata": {
        "id": "2E5UpDq-zVnk"
      },
      "execution_count": null,
      "outputs": []
    },
    {
      "cell_type": "code",
      "source": [
        "test_data[0][0]"
      ],
      "metadata": {
        "colab": {
          "base_uri": "https://localhost:8080/"
        },
        "id": "pxq2vjwizVq4",
        "outputId": "33ad459c-af8c-4369-f586-70b3e8b4ace7"
      },
      "execution_count": null,
      "outputs": [
        {
          "output_type": "execute_result",
          "data": {
            "text/plain": [
              "['Mary',\n",
              " 'got',\n",
              " 'the',\n",
              " 'milk',\n",
              " 'there',\n",
              " '.',\n",
              " 'John',\n",
              " 'moved',\n",
              " 'to',\n",
              " 'the',\n",
              " 'bedroom',\n",
              " '.']"
            ]
          },
          "metadata": {},
          "execution_count": 64
        }
      ]
    },
    {
      "cell_type": "code",
      "source": [
        "test_data[0][1]"
      ],
      "metadata": {
        "colab": {
          "base_uri": "https://localhost:8080/"
        },
        "id": "RffEOUluzaSM",
        "outputId": "a15f22f2-74f9-41c2-9056-c5e5ab5a553e"
      },
      "execution_count": null,
      "outputs": [
        {
          "output_type": "execute_result",
          "data": {
            "text/plain": [
              "['Is', 'John', 'in', 'the', 'kitchen', '?']"
            ]
          },
          "metadata": {},
          "execution_count": 65
        }
      ]
    },
    {
      "cell_type": "code",
      "source": [
        "test_data[0][2]"
      ],
      "metadata": {
        "colab": {
          "base_uri": "https://localhost:8080/",
          "height": 36
        },
        "id": "1ZvcD-CjzaU7",
        "outputId": "52422636-e46a-4a8f-b0f6-dfd27e1fd4d1"
      },
      "execution_count": null,
      "outputs": [
        {
          "output_type": "execute_result",
          "data": {
            "text/plain": [
              "'no'"
            ],
            "application/vnd.google.colaboratory.intrinsic+json": {
              "type": "string"
            }
          },
          "metadata": {},
          "execution_count": 66
        }
      ]
    },
    {
      "cell_type": "code",
      "source": [
        "for key, val in tokenizer.word_index.items():\n",
        "    if val==val_max:\n",
        "        k = key\n"
      ],
      "metadata": {
        "id": "bO_QlzMFzaYR"
      },
      "execution_count": null,
      "outputs": []
    },
    {
      "cell_type": "code",
      "source": [
        "k"
      ],
      "metadata": {
        "colab": {
          "base_uri": "https://localhost:8080/",
          "height": 36
        },
        "id": "iTgERQ9Tzff9",
        "outputId": "98cd89c2-ddca-4fd6-89e2-5961933d1fd9"
      },
      "execution_count": null,
      "outputs": [
        {
          "output_type": "execute_result",
          "data": {
            "text/plain": [
              "'no'"
            ],
            "application/vnd.google.colaboratory.intrinsic+json": {
              "type": "string"
            }
          },
          "metadata": {},
          "execution_count": 68
        }
      ]
    },
    {
      "cell_type": "code",
      "source": [
        "pred_results[0][val_max]"
      ],
      "metadata": {
        "colab": {
          "base_uri": "https://localhost:8080/"
        },
        "id": "HTh7eaQCzhZr",
        "outputId": "8732b378-5bea-49fc-b570-f27043830f7a"
      },
      "execution_count": null,
      "outputs": [
        {
          "output_type": "execute_result",
          "data": {
            "text/plain": [
              "0.9989927"
            ]
          },
          "metadata": {},
          "execution_count": 69
        }
      ]
    },
    {
      "cell_type": "code",
      "source": [
        "my_story = \"John left the kitchen . Sandra dropped football in the garden .\""
      ],
      "metadata": {
        "id": "8XD0t9xOzhco"
      },
      "execution_count": null,
      "outputs": []
    },
    {
      "cell_type": "code",
      "source": [
        "my_story.split()"
      ],
      "metadata": {
        "colab": {
          "base_uri": "https://localhost:8080/"
        },
        "id": "6FF9KxyKzhgD",
        "outputId": "e1bf9b2c-2802-43ac-c7f8-e858a895a609"
      },
      "execution_count": null,
      "outputs": [
        {
          "output_type": "execute_result",
          "data": {
            "text/plain": [
              "['John',\n",
              " 'left',\n",
              " 'the',\n",
              " 'kitchen',\n",
              " '.',\n",
              " 'Sandra',\n",
              " 'dropped',\n",
              " 'football',\n",
              " 'in',\n",
              " 'the',\n",
              " 'garden',\n",
              " '.']"
            ]
          },
          "metadata": {},
          "execution_count": 71
        }
      ]
    },
    {
      "cell_type": "code",
      "source": [
        "my_question = \"Is the football in the garden ?\""
      ],
      "metadata": {
        "id": "YbFsUmbRzmxC"
      },
      "execution_count": null,
      "outputs": []
    },
    {
      "cell_type": "code",
      "source": [
        "mydata = [(my_story.split(), my_question.split(), \"yes\")]"
      ],
      "metadata": {
        "id": "3dAtJR2Lzmza"
      },
      "execution_count": null,
      "outputs": []
    },
    {
      "cell_type": "code",
      "source": [
        "mydata"
      ],
      "metadata": {
        "colab": {
          "base_uri": "https://localhost:8080/"
        },
        "id": "MUoNtuUyzm2J",
        "outputId": "4ff48143-fd8d-41c1-9f60-dcb77dde259e"
      },
      "execution_count": null,
      "outputs": [
        {
          "output_type": "execute_result",
          "data": {
            "text/plain": [
              "[(['John',\n",
              "   'left',\n",
              "   'the',\n",
              "   'kitchen',\n",
              "   '.',\n",
              "   'Sandra',\n",
              "   'dropped',\n",
              "   'football',\n",
              "   'in',\n",
              "   'the',\n",
              "   'garden',\n",
              "   '.'],\n",
              "  ['Is', 'the', 'football', 'in', 'the', 'garden', '?'],\n",
              "  'yes')]"
            ]
          },
          "metadata": {},
          "execution_count": 74
        }
      ]
    },
    {
      "cell_type": "code",
      "source": [
        "my_story, my_ques, my_ans = vectorize_stories(mydata)"
      ],
      "metadata": {
        "id": "bJHQg8SSzm5g"
      },
      "execution_count": null,
      "outputs": []
    },
    {
      "cell_type": "code",
      "source": [
        "ans = model.predict(([my_story, my_ques]))"
      ],
      "metadata": {
        "colab": {
          "base_uri": "https://localhost:8080/"
        },
        "id": "UMXM4feHzs5e",
        "outputId": "c3e1a5e4-46eb-47a4-811e-b1cb519bfe25"
      },
      "execution_count": null,
      "outputs": [
        {
          "output_type": "stream",
          "name": "stdout",
          "text": [
            "1/1 [==============================] - 0s 25ms/step\n"
          ]
        }
      ]
    },
    {
      "cell_type": "code",
      "source": [
        "ans"
      ],
      "metadata": {
        "colab": {
          "base_uri": "https://localhost:8080/"
        },
        "id": "nOS7-jaIzs7_",
        "outputId": "832b04c1-3ebe-4fa1-b8c0-6c7cfbadab18"
      },
      "execution_count": null,
      "outputs": [
        {
          "output_type": "execute_result",
          "data": {
            "text/plain": [
              "array([[1.8357260e-12, 1.7141456e-12, 1.9198985e-12, 1.6807474e-12,\n",
              "        1.6672988e-12, 1.6828485e-12, 1.8760037e-12, 1.6542796e-12,\n",
              "        1.6835708e-12, 1.6276790e-12, 1.9984778e-12, 1.8369974e-12,\n",
              "        1.6731159e-12, 1.6530811e-12, 1.8038599e-12, 1.9822447e-12,\n",
              "        1.8252379e-12, 1.8108164e-12, 1.6736201e-12, 1.7377820e-12,\n",
              "        1.7114113e-12, 1.7664245e-12, 1.7658451e-12, 1.7837354e-12,\n",
              "        1.6596682e-12, 1.7385710e-12, 1.6466048e-12, 6.9106543e-05,\n",
              "        1.9372939e-12, 1.9085653e-12, 9.9993086e-01, 1.6763165e-12,\n",
              "        1.7785512e-12, 1.7207430e-12, 1.7364567e-12, 1.7027893e-12,\n",
              "        1.6426648e-12, 1.6749294e-12]], dtype=float32)"
            ]
          },
          "metadata": {},
          "execution_count": 77
        }
      ]
    },
    {
      "cell_type": "code",
      "source": [
        "np.argmax(ans)"
      ],
      "metadata": {
        "colab": {
          "base_uri": "https://localhost:8080/"
        },
        "id": "JaG_6Xeqzs_j",
        "outputId": "dffa4f7d-d272-4400-eb12-18683ae5b755"
      },
      "execution_count": null,
      "outputs": [
        {
          "output_type": "execute_result",
          "data": {
            "text/plain": [
              "30"
            ]
          },
          "metadata": {},
          "execution_count": 78
        }
      ]
    },
    {
      "cell_type": "code",
      "source": [
        "ans[0][23]"
      ],
      "metadata": {
        "colab": {
          "base_uri": "https://localhost:8080/"
        },
        "id": "EGl08yS5zyrs",
        "outputId": "31b55da6-59ad-4ab5-c554-e30eb571669d"
      },
      "execution_count": null,
      "outputs": [
        {
          "output_type": "execute_result",
          "data": {
            "text/plain": [
              "1.7837354e-12"
            ]
          },
          "metadata": {},
          "execution_count": 79
        }
      ]
    },
    {
      "cell_type": "code",
      "source": [
        "vocab"
      ],
      "metadata": {
        "colab": {
          "base_uri": "https://localhost:8080/"
        },
        "id": "dQ_wF0KTzyub",
        "outputId": "911d5318-b2e5-4153-c413-80a2148ab24c"
      },
      "execution_count": null,
      "outputs": [
        {
          "output_type": "execute_result",
          "data": {
            "text/plain": [
              "{'.',\n",
              " '?',\n",
              " 'Daniel',\n",
              " 'Is',\n",
              " 'John',\n",
              " 'Mary',\n",
              " 'Sandra',\n",
              " 'apple',\n",
              " 'back',\n",
              " 'bathroom',\n",
              " 'bedroom',\n",
              " 'discarded',\n",
              " 'down',\n",
              " 'dropped',\n",
              " 'football',\n",
              " 'garden',\n",
              " 'got',\n",
              " 'grabbed',\n",
              " 'hallway',\n",
              " 'in',\n",
              " 'journeyed',\n",
              " 'kitchen',\n",
              " 'left',\n",
              " 'milk',\n",
              " 'moved',\n",
              " 'no',\n",
              " 'office',\n",
              " 'picked',\n",
              " 'put',\n",
              " 'the',\n",
              " 'there',\n",
              " 'to',\n",
              " 'took',\n",
              " 'travelled',\n",
              " 'up',\n",
              " 'went',\n",
              " 'yes'}"
            ]
          },
          "metadata": {},
          "execution_count": 80
        }
      ]
    },
    {
      "cell_type": "markdown",
      "source": [],
      "metadata": {
        "id": "c7ROlusl3Kit"
      }
    },
    {
      "cell_type": "code",
      "source": [],
      "metadata": {
        "id": "8VFGdbDmzywv"
      },
      "execution_count": null,
      "outputs": []
    }
  ]
}